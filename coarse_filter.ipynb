{
 "cells": [
  {
   "cell_type": "code",
   "execution_count": 1,
   "metadata": {},
   "outputs": [],
   "source": [
    "import pandas as pd\n",
    "\n",
    "def load(p: str) -> pd.DataFrame:\n",
    "    df = pd.read_csv(p)\n",
    "    df['transaction_reference_id'] = df['transaction_reference_id'].apply(lambda x: int(x, 16))\n",
    "    return df\n",
    "\n",
    "account_booking_test_ = load(\"account_booking_test.csv\")\n",
    "account_booking_train_ = load(\"account_booking_train.csv\")\n",
    "external_parties_test_ = load(\"external_parties_test.csv\")\n",
    "external_parties_train_ = load(\"external_parties_train.csv\")"
   ]
  },
  {
   "cell_type": "code",
   "execution_count": 2,
   "metadata": {},
   "outputs": [],
   "source": [
    "# if training d\n",
    "if False:\n",
    "    account_booking = account_booking_train_\n",
    "    external_parties = external_parties_train_\n",
    "else:\n",
    "    account_booking = account_booking_test_\n",
    "    external_parties = external_parties_test_"
   ]
  },
  {
   "cell_type": "code",
   "execution_count": 3,
   "metadata": {},
   "outputs": [],
   "source": [
    "def remove_internal(df: pd.DataFrame) -> pd.DataFrame:\n",
    "    return df.drop_duplicates(subset=[\"transaction_reference_id\"], keep=False)\n",
    "\n",
    "account_booking = remove_internal(account_booking)"
   ]
  },
  {
   "cell_type": "code",
   "execution_count": 4,
   "metadata": {},
   "outputs": [],
   "source": [
    "assert account_booking.dtypes['transaction_reference_id'] == external_parties.dtypes['transaction_reference_id']"
   ]
  },
  {
   "cell_type": "code",
   "execution_count": 5,
   "metadata": {},
   "outputs": [],
   "source": [
    "joined = external_parties.set_index('transaction_reference_id').join(\n",
    "    account_booking.set_index('transaction_reference_id'),\n",
    "    on='transaction_reference_id'\n",
    ").reset_index()"
   ]
  },
  {
   "cell_type": "code",
   "execution_count": 6,
   "metadata": {},
   "outputs": [],
   "source": [
    "assert len(joined[pd.isna(joined['parsed_name'])]) == 0"
   ]
  },
  {
   "cell_type": "code",
   "execution_count": 7,
   "metadata": {},
   "outputs": [],
   "source": [
    "from simhash import Simhash\n",
    "import pickle\n",
    "\n",
    "d_name = {}\n",
    "d_city = {}\n",
    "\n",
    "with open(\"d_name.pkl\" , 'rb') as f:\n",
    "    d_name = pickle.load(f)\n",
    "with open(\"d_city.pkl\" , 'rb') as f:\n",
    "    d_city = pickle.load(f)\n",
    "\n",
    "def bucket_name(df: pd.DataFrame) -> int | None:\n",
    "    # parsed_name = df['parsed_name']\n",
    "    # return Simhash(parsed_name).value\n",
    "    return d_name[df['transaction_reference_id']]\n",
    "\n",
    "def bucket_city(df: pd.DataFrame) -> int | None:\n",
    "    # parsed_address_city = df['parsed_address_city']\n",
    "    # city = parsed_address_city if type(parsed_address_city) is str else \"\"\n",
    "    # return Simhash(city).value\n",
    "    return d_city[df['transaction_reference_id']]\n",
    "\n",
    "def bucket_iban(df: pd.DataFrame) -> int | None:\n",
    "    return df['party_iban']"
   ]
  },
  {
   "cell_type": "code",
   "execution_count": 8,
   "metadata": {},
   "outputs": [],
   "source": [
    "from typing import List, Any, Tuple\n",
    "from disjoint_set import DisjointSet\n",
    "\n",
    "def add_linear_id(start_idx: int, df: pd.DataFrame) -> pd.DataFrame:\n",
    "    df['external_id'] = range(start_idx, start_idx + len(df))\n",
    "    return df\n",
    "\n",
    "\n",
    "# runs the provided functions on the dataframe and progressively groups using a function\n",
    "# at a time. Returns a dataframe where all rows have been grouped with an associated ID,\n",
    "# and a dataframe with still ungrouped rows.\n",
    "def bucket_by_fn(df_: pd.DataFrame, fns: List[Any]) -> pd.DataFrame:\n",
    "    d = DisjointSet()\n",
    "    for fn in fns:\n",
    "        df = df_\n",
    "        df['bucket'] = df.apply(fn, axis=1)\n",
    "        grouped = df.groupby('bucket')\n",
    "        for _, group in grouped:\n",
    "            if len(group) < 1:\n",
    "                continue\n",
    "\n",
    "            first_id = group.iloc[0]['transaction_reference_id']\n",
    "            for i in range(1, len(group)):\n",
    "                new_id = group.iloc[i]['transaction_reference_id']\n",
    "                d.union(first_id, new_id)\n",
    "\n",
    "        print(f\"fn {fn} applied\")\n",
    "\n",
    "    df['external_id'] = df.apply(lambda row: int(d.find(row['transaction_reference_id'])), axis=1)\n",
    "    return df[df.duplicated(subset='external_id', keep=False)]"
   ]
  },
  {
   "cell_type": "code",
   "execution_count": 9,
   "metadata": {},
   "outputs": [],
   "source": [
    "def do_thing(booking: pd.DataFrame, external: pd.DataFrame) -> pd.DataFrame:\n",
    "    assert len(external[pd.isna(external['parsed_name'])]) == 0\n",
    "\n",
    "    joined = external.set_index('transaction_reference_id').join(\n",
    "        booking.set_index('transaction_reference_id'),\n",
    "        on='transaction_reference_id'\n",
    "    ).reset_index()\n",
    "    print('join finished, working on', len(joined), 'elements')\n",
    "    assert len(joined[pd.isna(joined['parsed_name'])]) == 0\n",
    "\n",
    "    final = bucket_by_fn(joined, [bucket_iban, bucket_name])\n",
    "    print(final.head(5))\n",
    "    return final"
   ]
  },
  {
   "cell_type": "code",
   "execution_count": 14,
   "metadata": {},
   "outputs": [
    {
     "name": "stdout",
     "output_type": "stream",
     "text": [
      "join finished, working on 1481672 elements\n"
     ]
    }
   ],
   "source": [
    "result = do_thing(account_booking, external_parties)\n",
    "# result = do_thing(account_booking_train_, external_parties_train_)\n",
    "result['transaction_reference_id'] = result['transaction_reference_id'].apply(lambda x: f\"{x:0{32}x}\")\n",
    "result = result.drop(['debit_credit_indicator', 'account_id', 'transaction_amount', 'transaction_currency', 'transaction_date',\n",
    "                  'party_role','party_info_unstructured','parsed_name','parsed_address_street_name','parsed_address_street_number',\n",
    "                  'parsed_address_unit','parsed_address_postal_code','parsed_address_city','parsed_address_state',\n",
    "                  'parsed_address_country','party_iban','party_phone','bucket'], axis=1)\n",
    "result.to_csv('submission.csv', index=False)"
   ]
  },
  {
   "cell_type": "code",
   "execution_count": 11,
   "metadata": {},
   "outputs": [],
   "source": [
    "def compare(inp: pd.DataFrame, truth: pd.DataFrame):\n",
    "    assert len(inp) == len(truth)\n",
    "    tp = 0\n",
    "    fp = 0\n",
    "    fn = 0\n",
    "    tn = 0\n",
    "    \n",
    "    truth_map = {}\n",
    "    guess_map = {}\n",
    "    for _, x in truth.iterrows():\n",
    "        truth_map[x[\"transaction_reference_id\"]] = x[\"external_id\"]\n",
    "    \n",
    "    for _, x in inp.iterrows():\n",
    "        guess_map[x[\"transaction_reference_id\"]] = x[\"external_id\"]\n",
    "\n",
    "    inp = inp[inp.duplicated(subset='external_id', keep=False)]\n",
    "    truth = truth[truth.duplicated(subset='external_id', keep=False)]\n",
    "\n",
    "    truth_gr = truth.groupby(\"external_id\")[\"transaction_reference_id\"].apply(list)\n",
    "    guess_gr = inp.groupby(\"external_id\")[\"transaction_reference_id\"].apply(list)\n",
    "\n",
    "    \n",
    "    for t_group in truth_gr:\n",
    "        for a in t_group:\n",
    "            for b in t_group:\n",
    "                if a == b:\n",
    "                    continue\n",
    "\n",
    "                ag, bg = guess_map[a], guess_map[b]\n",
    "\n",
    "                if ag == bg:\n",
    "                    tp += 1\n",
    "                else:\n",
    "                    fn += 1\n",
    "\n",
    "    for g_group in guess_gr:\n",
    "        for a in g_group:\n",
    "            for b in g_group:\n",
    "                if a == b:\n",
    "                    continue\n",
    "                \n",
    "                at, bt = truth_map[a], guess_map[b]\n",
    "\n",
    "                if at != bt:\n",
    "                    fp += 1\n",
    "                else:\n",
    "                    tn += 1\n",
    "    \n",
    "    precision = tp/(tp+fp)\n",
    "    recall = tp/(tp+fn)\n",
    "    \n",
    "    f1 = 2 * (precision * recall) / (precision + recall)\n",
    "    return f1\n",
    "                \n",
    "# result = do_thing(account_booking_train_, external_parties_train_)\n",
    "\n",
    "# print(compare(result, external_parties_train_))"
   ]
  },
  {
   "cell_type": "code",
   "execution_count": null,
   "metadata": {},
   "outputs": [],
   "source": []
  }
 ],
 "metadata": {
  "kernelspec": {
   "display_name": "lauz-NrUmdOLo-py3.11",
   "language": "python",
   "name": "python3"
  },
  "language_info": {
   "codemirror_mode": {
    "name": "ipython",
    "version": 3
   },
   "file_extension": ".py",
   "mimetype": "text/x-python",
   "name": "python",
   "nbconvert_exporter": "python",
   "pygments_lexer": "ipython3",
   "version": "3.12.6"
  }
 },
 "nbformat": 4,
 "nbformat_minor": 2
}
