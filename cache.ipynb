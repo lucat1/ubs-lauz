{
 "cells": [
  {
   "cell_type": "code",
   "execution_count": 1,
   "metadata": {},
   "outputs": [],
   "source": [
    "import pandas as pd\n",
    "from simhash import Simhash\n",
    "import pickle\n",
    "\n",
    "def load(p: str) -> pd.DataFrame:\n",
    "    df = pd.read_csv(p)\n",
    "    df['transaction_reference_id'] = df['transaction_reference_id'].apply(lambda x: int(x, 16))\n",
    "    return df\n",
    "\n",
    "external_parties_test_ = load(\"external_parties_test.csv\")\n",
    "external_parties_train_ = load(\"external_parties_train.csv\")\n",
    "\n",
    "data = pd.concat([external_parties_test_, external_parties_train_], ignore_index=True)\n",
    "\n",
    "d_name = {}\n",
    "d_city = {}\n",
    "\n",
    "for _, row in data.iterrows():\n",
    "    id = row['transaction_reference_id']\n",
    "    parsed_name = row['parsed_name']\n",
    "    parsed_address_city = row['parsed_address_city']\n",
    "\n",
    "    if type(parsed_name) == str:\n",
    "        hash = Simhash(parsed_name).value\n",
    "        d_name[id] = hash\n",
    "\n",
    "    if type(parsed_address_city) == str:\n",
    "        hash = Simhash(parsed_address_city).value\n",
    "        d_city[id] = hash\n",
    "\n",
    "with open(\"d_name.pkl\", \"wb\") as f:\n",
    "    pickle.dump(d_name, f)\n",
    "\n",
    "with open(\"d_city.pkl\", \"wb\") as f:\n",
    "    pickle.dump(d_city, f)"
   ]
  },
  {
   "cell_type": "code",
   "execution_count": null,
   "metadata": {},
   "outputs": [],
   "source": []
  }
 ],
 "metadata": {
  "kernelspec": {
   "display_name": "lauz-NrUmdOLo-py3.12",
   "language": "python",
   "name": "python3"
  },
  "language_info": {
   "codemirror_mode": {
    "name": "ipython",
    "version": 3
   },
   "file_extension": ".py",
   "mimetype": "text/x-python",
   "name": "python",
   "nbconvert_exporter": "python",
   "pygments_lexer": "ipython3",
   "version": "3.12.6"
  }
 },
 "nbformat": 4,
 "nbformat_minor": 2
}
