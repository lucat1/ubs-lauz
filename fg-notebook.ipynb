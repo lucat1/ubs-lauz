{
 "cells": [
  {
   "cell_type": "code",
   "execution_count": null,
   "metadata": {},
   "outputs": [],
   "source": [
    "import pandas as pd\n",
    "\n",
    "account_booking_test = pd.read_csv(\"account_booking_test.csv\")\n",
    "account_booking_train = pd.read_csv(\"account_booking_train.csv\")\n",
    "external_parties_test = pd.read_csv(\"external_parties_test.csv\")\n",
    "external_parties_train = pd.read_csv(\"external_parties_train.csv\")"
   ]
  },
  {
   "cell_type": "markdown",
   "metadata": {},
   "source": [
    "Delete 2 legs transactions"
   ]
  },
  {
   "cell_type": "code",
   "execution_count": null,
   "metadata": {},
   "outputs": [],
   "source": [
    "df = pd.DataFrame(account_booking_test).drop_duplicates(subset=[\"transaction_reference_id\"], keep=False)\n",
    "print(f\"reduction {1-len(df)/len(account_booking_test)}\")"
   ]
  }
 ],
 "metadata": {
  "language_info": {
   "name": "python"
  }
 },
 "nbformat": 4,
 "nbformat_minor": 2
}
