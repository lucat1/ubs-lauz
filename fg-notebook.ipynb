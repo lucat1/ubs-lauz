{
 "cells": [
  {
   "cell_type": "code",
   "execution_count": 19,
   "metadata": {},
   "outputs": [],
   "source": [
    "import pandas as pd\n",
    "import itertools\n",
    "\n",
    "account_booking_test = pd.read_csv(\"account_booking_test.csv\")\n",
    "account_booking_train = pd.read_csv(\"account_booking_train.csv\")\n",
    "external_parties_test = pd.read_csv(\"external_parties_test.csv\")\n",
    "external_parties_train = pd.read_csv(\"external_parties_train.csv\")"
   ]
  },
  {
   "cell_type": "markdown",
   "metadata": {},
   "source": [
    "Delete internal transaction"
   ]
  },
  {
   "cell_type": "code",
   "execution_count": 20,
   "metadata": {},
   "outputs": [],
   "source": [
    "booking = account_booking_train\n",
    "parties = external_parties_train"
   ]
  },
  {
   "cell_type": "code",
   "execution_count": 21,
   "metadata": {},
   "outputs": [],
   "source": [
    "df_parties = pd.DataFrame(parties)\n",
    "\n",
    "\n",
    "df_booking = pd.DataFrame(booking).drop_duplicates(subset=[\"transaction_reference_id\"], keep=False)\n",
    "#print(f\"reduction {1-len(df)/len(account_booking_test)}\")"
   ]
  },
  {
   "cell_type": "code",
   "execution_count": 22,
   "metadata": {},
   "outputs": [
    {
     "name": "stdout",
     "output_type": "stream",
     "text": [
      "1.0\n"
     ]
    }
   ],
   "source": [
    "def compare(inp: pd.DataFrame, truth: pd.DataFrame):\n",
    "    assert len(inp) == len(truth)\n",
    "    tp = 0\n",
    "    fp = 0\n",
    "    fn = 0\n",
    "    tn = 0\n",
    "    \n",
    "    truth_map = {}\n",
    "    guess_map = {}\n",
    "    for _, x in truth.iterrows():\n",
    "        truth_map[x[\"transaction_reference_id\"]] = x[\"external_id\"]\n",
    "    \n",
    "    for _, x in inp.iterrows():\n",
    "        guess_map[x[\"transaction_reference_id\"]] = x[\"external_id\"]\n",
    "\n",
    "    inp = inp[inp.duplicated(subset='external_id', keep=False)]\n",
    "    truth = truth[truth.duplicated(subset='external_id', keep=False)]\n",
    "\n",
    "    truth_gr = truth.groupby(\"external_id\")[\"transaction_reference_id\"].apply(list)\n",
    "    guess_gr = inp.groupby(\"external_id\")[\"transaction_reference_id\"].apply(list)\n",
    "\n",
    "    \n",
    "    for t_group in truth_gr:\n",
    "        for a in t_group:\n",
    "            for b in t_group:\n",
    "                if a == b:\n",
    "                    continue\n",
    "\n",
    "                ag, bg = guess_map[a], guess_map[b]\n",
    "\n",
    "                if ag == bg:\n",
    "                    tp += 1\n",
    "                else:\n",
    "                    fn += 1\n",
    "\n",
    "    for g_group in guess_gr:\n",
    "        for a in g_group:\n",
    "            for b in g_group:\n",
    "                if a == b:\n",
    "                    continue\n",
    "                \n",
    "                at, bt = truth_map[a], guess_map[b]\n",
    "\n",
    "                if at != bt:\n",
    "                    fp += 1\n",
    "                else:\n",
    "                    tn += 1\n",
    "    \n",
    "    precision = tp/(tp+fp)\n",
    "    recall = tp/(tp+fn)\n",
    "    \n",
    "    f1 = 2 * (precision * recall) / (precision + recall)\n",
    "    return f1\n",
    "            \n",
    "\n",
    "                \n",
    "\n",
    "print(compare(df_parties, df_parties))"
   ]
  }
 ],
 "metadata": {
  "kernelspec": {
   "display_name": "lauz-pbKAjES8-py3.11",
   "language": "python",
   "name": "python3"
  },
  "language_info": {
   "codemirror_mode": {
    "name": "ipython",
    "version": 3
   },
   "file_extension": ".py",
   "mimetype": "text/x-python",
   "name": "python",
   "nbconvert_exporter": "python",
   "pygments_lexer": "ipython3",
   "version": "3.11.10"
  }
 },
 "nbformat": 4,
 "nbformat_minor": 2
}
